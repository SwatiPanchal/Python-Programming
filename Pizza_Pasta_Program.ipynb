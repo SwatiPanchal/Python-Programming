{
 "cells": [
  {
   "cell_type": "code",
   "execution_count": 13,
   "metadata": {},
   "outputs": [
    {
     "name": "stdout",
     "output_type": "stream",
     "text": [
      "*******************Amazing Pizza and Pasta Pizzeria*******************\n",
      "---Menu---\n",
      "1. Pizza------Rs 10.99\n",
      "2. Pasta------Rs 9.5\n",
      "\n",
      "-----Free Items-----\n",
      "1 Free  Drink - On purchase of 4 pizza\n",
      "1 Free Bruschetta - On purchase of 4 pasta\n",
      "2 Free Brownie - On purchase of 4 pasta and 4 pizza\n",
      "\n",
      "Enter your choice separating it by comma :1,2\n",
      "Enter total number of pizza :4\n",
      "Enter total number of pasta :6\n",
      "\n",
      "\n",
      "----------Amazing Pizza and Pasta Pizzeria ----------\n",
      "\n",
      "Item Name\t\tPrice\t\tQuantity\tTotal Price\n",
      "Pizza\t\t\t10.99\t\t4\t\t43.96\n",
      "Pasta\t\t\t9.5\t\t6\t\t57.0\n",
      "\n",
      "Total amount = 100.96\n",
      "You have got 1 soft drink of 1.5l, 1 plate of bruschetta and 2 choco brownie free\n"
     ]
    }
   ],
   "source": [
    "print(\"Amazing Pizza and Pasta Pizzeria\".center(70,\"*\"))\n",
    "print(\"Menu\".center(10,\"-\"))\n",
    "print(\"1. Pizza------Rs 10.99\\n2. Pasta------Rs 9.5\\n\")\n",
    "print(\"Free Items\".center(20,\"-\"))\n",
    "print(\"1 Free  Drink - On purchase of 4 pizza\")\n",
    "print(\"1 Free Bruschetta - On purchase of 4 pasta\")\n",
    "print(\"2 Free Brownie - On purchase of 4 pasta and 4 pizza\\n\")\n",
    "\n",
    "choice = input(\"Enter your choice separating it by comma :\")\n",
    "choice = choice.split(\",\")\n",
    "\n",
    "if \"1\" not in choice and \"Pizza\" not in choice and \"2\" not in choice and \"Pasta\" not in choice:\n",
    "    print(\"Enter valid choice\")\n",
    "else:\n",
    "    pizza_total = 0\n",
    "    pasta_total = 0\n",
    "    pizza = 0\n",
    "    pasta = 0\n",
    "    free_drink = 0\n",
    "    free_bruschetta = 0\n",
    "    if \"1\" in choice or \"Pizza\" in choice:\n",
    "        pizza = int(input(\"Enter total number of pizza :\"))\n",
    "        free_drink = pizza//4\n",
    "    if \"2\" in choice or \"Pasta\" in choice:\n",
    "        pasta = int(input(\"Enter total number of pasta :\"))\n",
    "        free_bruschetta = pasta//4\n",
    "\n",
    "    # Bill\n",
    "    print(\"\\n\\n----------Amazing Pizza and Pasta Pizzeria ----------\\n\")\n",
    "    print(\"Item Name\\t\\tPrice\\t\\tQuantity\\tTotal Price\")\n",
    "    if \"1\" in choice or \"Pizza\" in choice: \n",
    "        pizza_total = 10.99*pizza\n",
    "        print(f\"Pizza\\t\\t\\t10.99\\t\\t{pizza}\\t\\t{pizza_total}\")\n",
    "    if \"2\" in choice or \"Pasta\" in choice:\n",
    "        pasta_total = 9.5*pasta\n",
    "        print(f\"Pasta\\t\\t\\t9.5\\t\\t{pasta}\\t\\t{pasta_total}\")\n",
    "        \n",
    "    print(f\"\\nTotal amount = {pizza_total + pasta_total:.2f}\")\n",
    "    if pizza>=4 and pasta>=4:\n",
    "        print(f\"You have got {free_drink} soft drink of 1.5l, {free_bruschetta} plate of bruschetta and {min(free_drink,free_bruschetta)*2} choco brownie free\")\n",
    "    else:\n",
    "        if free_drink>0:\n",
    "            print(f\"You have got {free_drink} soft drink of 1.5l free\")\n",
    "        if free_bruschetta>0:\n",
    "            print(f\"You have got {free_bruschetta} plate of bruschetta free\")"
   ]
  },
  {
   "cell_type": "code",
   "execution_count": null,
   "metadata": {},
   "outputs": [],
   "source": []
  }
 ],
 "metadata": {
  "kernelspec": {
   "display_name": "Python 3",
   "language": "python",
   "name": "python3"
  },
  "language_info": {
   "codemirror_mode": {
    "name": "ipython",
    "version": 3
   },
   "file_extension": ".py",
   "mimetype": "text/x-python",
   "name": "python",
   "nbconvert_exporter": "python",
   "pygments_lexer": "ipython3",
   "version": "3.7.6"
  }
 },
 "nbformat": 4,
 "nbformat_minor": 4
}
